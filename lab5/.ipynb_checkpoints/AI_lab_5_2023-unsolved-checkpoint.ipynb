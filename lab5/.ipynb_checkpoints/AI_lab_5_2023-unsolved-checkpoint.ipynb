{
 "cells": [
  {
   "cell_type": "markdown",
   "id": "b8210b19",
   "metadata": {},
   "source": [
    "## A.I. Assignment 5\n",
    "\n",
    "## Learning Goals\n",
    "\n",
    "By the end of this lab, you should be able to:\n",
    "* Get more familiar with tensors in pytorch \n",
    "* Create a simple multilayer perceptron model with pytorch\n",
    "* Visualise the parameters\n",
    "\n",
    "\n",
    "### Task\n",
    "\n",
    "Build a fully connected feed forward network that adds two bits. Determine the a propper achitecture for this network (what database you use for this problem? how many layers? how many neurons on each layer? what is the activation function? what is the loss function? etc)\n",
    "\n",
    "Create at least 3 such networks and compare their performance (how accurate they are?, how farst they are trained to get at 1 accuracy?)\n",
    "\n",
    "Display for the best one the weights for each layer.\n"
   ]
  },
  {
   "cell_type": "code",
   "execution_count": 1,
   "id": "e3614e5f",
   "metadata": {},
   "outputs": [],
   "source": [
    "import torch\n",
    "import torch.nn as nn\n",
    "from collections import OrderedDict\n"
   ]
  },
  {
   "cell_type": "code",
   "execution_count": 5,
   "id": "5ee7e7d7",
   "metadata": {},
   "outputs": [],
   "source": [
    "# your code here\n",
    "#model1 = nn.Sequential(OrderedDict([\n",
    "#    ('hidden', nn.\n",
    "#]))\n",
    "\n",
    "\n",
    "# input layer has 2 neurons, hidden layer has 2 neurons and output layer has 1 neuron\n",
    "model1 = nn.Sequential(OrderedDict([\n",
    "    ('hidden', nn.Linear(2, 2)),\n",
    "    ('sigmoid', nn.Sigmoid()),\n",
    "    ('output', nn.Linear(2, 1)),\n",
    "    ('sigmoid', nn.Sigmoid())\n",
    "]))\n",
    "\n",
    "# input layer has 2 neurons, hidden layer has 4 neurons and output layer has 1 neuron\n",
    "model2 = nn.Sequential(OrderedDict([\n",
    "    ('hidden', nn.Linear(2, 4)),\n",
    "    ('sigmoid', nn.Sigmoid()),\n",
    "    ('output', nn.Linear(4, 1)),\n",
    "    ('sigmoid', nn.Sigmoid())\n",
    "]))\n",
    "\n",
    "# input layer has 2 neurons, hidden layer has 8 neurons and output layer has 1 neuron\n",
    "model3 = nn.Sequential(OrderedDict([\n",
    "    ('hidden', nn.Linear(2, 8)),\n",
    "    ('sigmoid', nn.Sigmoid()),\n",
    "    ('output', nn.Linear(8, 1)),\n",
    "    ('sigmoid', nn.Sigmoid())\n",
    "]))\n",
    "\n",
    "# the database contains 0 and 1 \n",
    "# 3 layers: the input and output layers and one hidden layer\n",
    "# the activation function is the sigmoid function\n",
    "# the loss function is cross entropy with logits function"
   ]
  },
  {
   "cell_type": "code",
   "execution_count": 6,
   "id": "665ae958",
   "metadata": {},
   "outputs": [
    {
     "name": "stdout",
     "output_type": "stream",
     "text": [
      "Sequential(\n",
      "  (hidden): Linear(in_features=2, out_features=2, bias=True)\n",
      "  (sigmoid): Sigmoid()\n",
      "  (output): Linear(in_features=2, out_features=1, bias=True)\n",
      ")\n",
      "Sequential(\n",
      "  (hidden): Linear(in_features=2, out_features=4, bias=True)\n",
      "  (sigmoid): Sigmoid()\n",
      "  (output): Linear(in_features=4, out_features=1, bias=True)\n",
      ")\n",
      "Sequential(\n",
      "  (hidden): Linear(in_features=2, out_features=8, bias=True)\n",
      "  (sigmoid): Sigmoid()\n",
      "  (output): Linear(in_features=8, out_features=1, bias=True)\n",
      ")\n"
     ]
    }
   ],
   "source": [
    "print(model1)\n",
    "print(model2)\n",
    "print(model3)"
   ]
  },
  {
   "cell_type": "code",
   "execution_count": 7,
   "id": "e26f0d3e",
   "metadata": {},
   "outputs": [
    {
     "name": "stdout",
     "output_type": "stream",
     "text": [
      "tensor([[0., 0.],\n",
      "        [0., 1.],\n",
      "        [1., 0.],\n",
      "        [1., 1.]])\n"
     ]
    }
   ],
   "source": [
    "# your code here\n",
    "#data_in = torch.tensor( ...\n",
    "\n",
    "data_in = torch.tensor([[0, 0], [0, 1], [1, 0], [1, 1]], dtype=torch.float32)\n",
    "print(data_in)"
   ]
  },
  {
   "cell_type": "code",
   "execution_count": 8,
   "id": "4fb16bbc",
   "metadata": {},
   "outputs": [
    {
     "name": "stdout",
     "output_type": "stream",
     "text": [
      "tensor([[0.],\n",
      "        [1.],\n",
      "        [1.],\n",
      "        [0.]])\n"
     ]
    }
   ],
   "source": [
    "# your code here\n",
    "# data_target = torch.tensor( ...\n",
    "\n",
    "data_target = torch.tensor([[0], [1], [1], [0]], dtype=torch.float32)\n",
    "print(data_target)"
   ]
  },
  {
   "cell_type": "code",
   "execution_count": 9,
   "id": "69d920ed",
   "metadata": {},
   "outputs": [],
   "source": [
    "# your code here\n",
    "# criterion = \n",
    "# optimizer = \n",
    "\n",
    "criterion = nn.BCEWithLogitsLoss()\n",
    "optimizer1 = torch.optim.SGD(model1.parameters(), lr=0.1)\n",
    "optimizer2 = torch.optim.SGD(model2.parameters(), lr=0.1)\n",
    "optimizer3 = torch.optim.SGD(model3.parameters(), lr=0.1)"
   ]
  },
  {
   "cell_type": "code",
   "execution_count": 12,
   "id": "cde91f6f",
   "metadata": {},
   "outputs": [
    {
     "name": "stdout",
     "output_type": "stream",
     "text": [
      "M1\n",
      "Epoch [100/1000], Loss: 0.6929\n",
      "Epoch [200/1000], Loss: 0.6928\n",
      "Epoch [300/1000], Loss: 0.6928\n",
      "Epoch [400/1000], Loss: 0.6928\n",
      "Epoch [500/1000], Loss: 0.6927\n",
      "Epoch [600/1000], Loss: 0.6927\n",
      "Epoch [700/1000], Loss: 0.6926\n",
      "Epoch [800/1000], Loss: 0.6926\n",
      "Epoch [900/1000], Loss: 0.6925\n",
      "Epoch [1000/1000], Loss: 0.6924\n",
      "\n",
      "M2\n",
      "Epoch [100/1000], Loss: 0.6931\n",
      "Epoch [200/1000], Loss: 0.6931\n",
      "Epoch [300/1000], Loss: 0.6931\n",
      "Epoch [400/1000], Loss: 0.6931\n",
      "Epoch [500/1000], Loss: 0.6930\n",
      "Epoch [600/1000], Loss: 0.6930\n",
      "Epoch [700/1000], Loss: 0.6930\n",
      "Epoch [800/1000], Loss: 0.6930\n",
      "Epoch [900/1000], Loss: 0.6930\n",
      "Epoch [1000/1000], Loss: 0.6930\n",
      "\n",
      "M3\n",
      "Epoch [100/1000], Loss: 0.6826\n",
      "Epoch [200/1000], Loss: 0.6800\n",
      "Epoch [300/1000], Loss: 0.6765\n",
      "Epoch [400/1000], Loss: 0.6722\n",
      "Epoch [500/1000], Loss: 0.6667\n",
      "Epoch [600/1000], Loss: 0.6599\n",
      "Epoch [700/1000], Loss: 0.6513\n",
      "Epoch [800/1000], Loss: 0.6408\n",
      "Epoch [900/1000], Loss: 0.6280\n",
      "Epoch [1000/1000], Loss: 0.6129\n"
     ]
    }
   ],
   "source": [
    "# your code here\n",
    "# Train the model\n",
    "\n",
    "num_epochs = 1000\n",
    "\n",
    "print('M1')\n",
    "for epoch in range(num_epochs):\n",
    "    # Forward pass\n",
    "    output = model1(data_in)\n",
    "    \n",
    "    # Calculate the loss\n",
    "    loss = criterion(output, data_target)\n",
    "    \n",
    "    # Backward pass and optimization\n",
    "    optimizer1.zero_grad()\n",
    "    loss.backward()\n",
    "    optimizer1.step()\n",
    "    \n",
    "    # Print the loss every 100 epochs\n",
    "    if (epoch + 1) % 100 == 0:\n",
    "        print(f\"Epoch [{epoch+1}/{num_epochs}], Loss: {loss.item():.4f}\")\n",
    "          \n",
    "\n",
    "print('\\nM2')\n",
    "for epoch in range(num_epochs):\n",
    "    output = model2(data_in)\n",
    "    \n",
    "    loss = criterion(output, data_target)\n",
    "    \n",
    "    optimizer2.zero_grad()\n",
    "    loss.backward()\n",
    "    optimizer2.step()\n",
    "    \n",
    "    if (epoch + 1) % 100 == 0:\n",
    "        print(f\"Epoch [{epoch+1}/{num_epochs}], Loss: {loss.item():.4f}\")\n",
    "        \n",
    "\n",
    "print('\\nM3')\n",
    "for epoch in range(num_epochs):\n",
    "    output = model3(data_in)\n",
    "    \n",
    "    loss = criterion(output, data_target)\n",
    "    \n",
    "    optimizer3.zero_grad()\n",
    "    loss.backward()\n",
    "    optimizer3.step()\n",
    "    \n",
    "    if (epoch + 1) % 100 == 0:\n",
    "        print(f\"Epoch [{epoch+1}/{num_epochs}], Loss: {loss.item():.4f}\")"
   ]
  },
  {
   "cell_type": "code",
   "execution_count": 16,
   "id": "dff3ec1a",
   "metadata": {},
   "outputs": [
    {
     "name": "stdout",
     "output_type": "stream",
     "text": [
      "Model 1's predictions:\n",
      "tensor([[0.],\n",
      "        [0.],\n",
      "        [0.],\n",
      "        [0.]])\n"
     ]
    },
    {
     "data": {
      "image/png": "[encoded data removed]",
      "text/plain": [
       "<Figure size 640x480 with 1 Axes>"
      ]
     },
     "metadata": {},
     "output_type": "display_data"
    },
    {
     "name": "stdout",
     "output_type": "stream",
     "text": [
      "Model 2's predictions:\n",
      "tensor([[0.],\n",
      "        [0.],\n",
      "        [0.],\n",
      "        [0.]])\n"
     ]
    },
    {
     "data": {
      "image/png": "[encoded data removed]",
      "text/plain": [
       "<Figure size 640x480 with 1 Axes>"
      ]
     },
     "metadata": {},
     "output_type": "display_data"
    },
    {
     "name": "stdout",
     "output_type": "stream",
     "text": [
      "Model 3's predictions:\n",
      "tensor([[0.],\n",
      "        [0.],\n",
      "        [0.],\n",
      "        [0.]])\n"
     ]
    },
    {
     "data": {
      "image/png": "[encoded data removed]",
      "text/plain": [
       "<Figure size 640x480 with 1 Axes>"
      ]
     },
     "metadata": {},
     "output_type": "display_data"
    }
   ],
   "source": [
    "# your code here\n",
    "# visualize the resuts\n",
    "\n",
    "\n",
    "# a heatmap that shows the predicted output for each combination of input bits. The color of each square in the heatmap \n",
    "# corresponds to the output value (0 or 1), with blue indicating 0 and red indicating 1\n",
    "\n",
    "import matplotlib.pyplot as plt\n",
    "\n",
    "#M1:\n",
    "output = model1(data_in)\n",
    "\n",
    "# Convert the output probabilities to binary predictions\n",
    "predictions = (output >= 0.5).float()\n",
    "\n",
    "# Print the model's predictions\n",
    "print(\"Model 1's predictions:\")\n",
    "print(predictions)\n",
    "\n",
    "# Visualize the model's predictions against the target output\n",
    "fig, ax = plt.subplots()\n",
    "\n",
    "ax.scatter(data_in[:, 0], data_in[:, 1], c=predictions[:, 0], cmap='spring')\n",
    "ax.set(xlabel='Bit 1', ylabel='Bit 2', title='Model Predictions vs Target Output')\n",
    "ax.grid()\n",
    "\n",
    "plt.show()\n",
    "\n",
    "\n",
    "# M2:\n",
    "output = model2(data_in)\n",
    "\n",
    "# Convert the output probabilities to binary predictions\n",
    "predictions = (output >= 0.5).float()\n",
    "\n",
    "# Print the model's predictions\n",
    "print(\"Model 2's predictions:\")\n",
    "print(predictions)\n",
    "\n",
    "# Visualize the model's predictions against the target output\n",
    "fig, ax = plt.subplots()\n",
    "\n",
    "ax.scatter(data_in[:, 0], data_in[:, 1], c=predictions[:, 0], cmap='spring')\n",
    "ax.set(xlabel='Bit 1', ylabel='Bit 2', title='Model Predictions vs Target Output')\n",
    "ax.grid()\n",
    "\n",
    "plt.show()\n",
    "\n",
    "\n",
    "# M3:\n",
    "output = model3(data_in)\n",
    "\n",
    "# Convert the output probabilities to binary predictions\n",
    "predictions = (output >= 0.5).float()\n",
    "\n",
    "# Print the model's predictions\n",
    "print(\"Model 3's predictions:\")\n",
    "print(predictions)\n",
    "\n",
    "# Visualize the model's predictions against the target output\n",
    "fig, ax = plt.subplots()\n",
    "\n",
    "ax.scatter(data_in[:, 0], data_in[:, 1], c=predictions[:, 0], cmap='spring')\n",
    "ax.set(xlabel='Bit 1', ylabel='Bit 2', title='Model Predictions vs Target Output')\n",
    "ax.grid()\n",
    "\n",
    "plt.show()"
   ]
  },
  {
   "cell_type": "code",
   "execution_count": 17,
   "id": "c1a7518b",
   "metadata": {},
   "outputs": [
    {
     "name": "stdout",
     "output_type": "stream",
     "text": [
      "Accuracy: 50.00%\n",
      "Accuracy: 50.00%\n",
      "Accuracy: 50.00%\n",
      "Model 1 is the best!\n",
      "\n",
      "\n",
      "hidden.weight tensor([[-0.3326,  0.3002],\n",
      "        [-0.7654,  0.2753]])\n",
      "hidden.bias tensor([ 0.2965, -0.0336])\n",
      "output.weight tensor([[-0.8057,  0.5289]])\n",
      "output.bias tensor([0.2278])\n"
     ]
    }
   ],
   "source": [
    "# your code here\n",
    "# print model wights\n",
    "\n",
    "accuracies = []\n",
    "models = [model1, model2, model3]\n",
    "for model in models:\n",
    "    model.eval()\n",
    "    with torch.no_grad():\n",
    "        outputs = model(data_in)\n",
    "        predicted = (outputs >= 0.5).float()\n",
    "        accuracy = (predicted == data_target).float().mean()\n",
    "        accuracies.append(accuracy)\n",
    "\n",
    "    print(\"Accuracy: {:.2f}%\".format(accuracy.item() * 100))\n",
    "    \n",
    "# Select the best-performing model\n",
    "best_model = models[accuracies.index(max(accuracies))]\n",
    "\n",
    "print('Model ' + str(accuracies.index(max(accuracies)) + 1) + ' is the best!')\n",
    "\n",
    "print('\\n')\n",
    "\n",
    "# Display the weights of each layer in the selected model\n",
    "for name, param in best_model.named_parameters():\n",
    "    if param.requires_grad:\n",
    "        print(name, param.data)"
   ]
  },
  {
   "cell_type": "code",
   "execution_count": null,
   "id": "1d77644f",
   "metadata": {},
   "outputs": [],
   "source": []
  }
 ],
 "metadata": {
  "kernelspec": {
   "display_name": "Python 3 (ipykernel)",
   "language": "python",
   "name": "python3"
  },
  "language_info": {
   "codemirror_mode": {
    "name": "ipython",
    "version": 3
   },
   "file_extension": ".py",
   "mimetype": "text/x-python",
   "name": "python",
   "nbconvert_exporter": "python",
   "pygments_lexer": "ipython3",
   "version": "3.9.13"
  }
 },
 "nbformat": 4,
 "nbformat_minor": 5
}
